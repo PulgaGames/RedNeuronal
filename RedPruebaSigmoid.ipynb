{
 "cells": [
  {
   "cell_type": "code",
   "execution_count": 1,
   "metadata": {},
   "outputs": [
    {
     "name": "stdout",
     "output_type": "stream",
     "text": [
      "[[ 0.2 -0.3]\n",
      " [ 0.4  0.1]\n",
      " [-0.5  0.2]]\n",
      "[[-0.3]\n",
      " [-0.2]]\n"
     ]
    }
   ],
   "source": [
    "import numpy as np\n",
    "\n",
    "# sigmoid function\n",
    "def nonlin(x,deriv=False):\n",
    "    if(deriv==True):\n",
    "        return x*(1-x)\n",
    "    return 1/(1+np.exp(-x))\n",
    "\n",
    "# Entrada dataset\n",
    "X = np.array([  [1,0,1]])\n",
    "\n",
    "# Salidas dataset           \n",
    "y = np.array([[1]])\n",
    "\n",
    "# SIN BIAS\n",
    "syn0=np.array([[0.2,-0.3],\n",
    "[0.4,0.1],\n",
    "[-0.5,0.2]])\n",
    "\n",
    "syn1 =np.array([[-0.3],[-0.2]])\n",
    "\n",
    "print(syn0)\n",
    "print(syn1)\n",
    "\n",
    "eta=0.9\n"
   ]
  },
  {
   "cell_type": "code",
   "execution_count": 2,
   "metadata": {},
   "outputs": [
    {
     "name": "stdout",
     "output_type": "stream",
     "text": [
      "neta1: [[-0.3 -0.1]] \n",
      "\n",
      "salida intermedia l1: \n",
      " [[0.42555748 0.47502081]]\n",
      "neta2: \n",
      " [[-0.22267141]]\n",
      "Salida red: \n",
      " [[0.44456103]]\n",
      "Error Promedio Absoluto:0.5554389737704979\n",
      "\n",
      " ***********empieza\n",
      "l2delta [[0.12343735]]\n",
      "l1_error [[-0.03703121 -0.02468747]]\n",
      "l1_delta [[-0.00814733 -0.00554082]]\n",
      "*********************************\n",
      "Output After Training:\n",
      "Salida red: \n",
      " [[0.44456103]]\n",
      "Error:0.5554389737704979 \n",
      "\n",
      "pesos: \n",
      "[[-0.24747031]\n",
      " [-0.14136469]] \n",
      "\n",
      "[[ 0.19185267 -0.30554082]\n",
      " [ 0.4         0.1       ]\n",
      " [-0.50814733  0.19445918]] \n",
      "\n"
     ]
    }
   ],
   "source": [
    "for iter in range(1):\n",
    "      # Propagacion hacia adelante - desde capa 0 (entrada) a capa 1 a capa 2 (salida)\n",
    "      neta1=np.dot(X,syn0)\n",
    "      print('neta1:',neta1,'\\n',)\n",
    "      l1 = nonlin(neta1)\n",
    "      print('salida intermedia l1:','\\n',l1)\n",
    "      neta2=np.dot(l1,syn1)\n",
    "      print('neta2:','\\n',neta2)\n",
    "      l2 = nonlin(neta2)\n",
    "      print('Salida red:','\\n',l2)\n",
    "  \n",
    "      l2_error = y - l2\n",
    "\n",
    "# ENTRENAMIENTO\n",
    "      if (iter% 1000) == 0:\n",
    "          print ('Error Promedio Absoluto:' + str(np.mean(np.abs(l2_error))))\n",
    "\n",
    "      print('\\n','***********empieza')\n",
    "      l2_delta = l2_error * nonlin(l2,deriv=True)*eta\n",
    "      print('l2delta',l2_delta)\n",
    "      \n",
    "      l1_error = l2_delta.dot(syn1.T)\n",
    "      print('l1_error', l1_error)\n",
    "      l1_delta = l1_error * nonlin(l1,deriv=True)*eta\n",
    "      print('l1_delta',l1_delta)\n",
    "      \n",
    "\t  # update weights\n",
    "      syn1 += l1.T.dot(l2_delta)\n",
    "      syn0 += X.T.dot(l1_delta)\n",
    "        \n",
    "print ('*********************************')\n",
    "print ('Output After Training:')\n",
    "print('Salida red:','\\n',l2)\n",
    "print ('Error:' + str(np.mean(np.abs(l2_error))),'\\n')\n",
    "print ('pesos: ')\n",
    "print (syn1,'\\n')\n",
    "print (syn0,'\\n')\n",
    "# Con formateo\n",
    "#print \"%5d%10s\" %(1,'a')"
   ]
  }
 ],
 "metadata": {
  "kernelspec": {
   "display_name": "Python 3",
   "language": "python",
   "name": "python3"
  },
  "language_info": {
   "codemirror_mode": {
    "name": "ipython",
    "version": 3
   },
   "file_extension": ".py",
   "mimetype": "text/x-python",
   "name": "python",
   "nbconvert_exporter": "python",
   "pygments_lexer": "ipython3",
   "version": "3.11.5"
  },
  "orig_nbformat": 4
 },
 "nbformat": 4,
 "nbformat_minor": 2
}
