{
 "cells": [
  {
   "cell_type": "code",
   "execution_count": 1,
   "metadata": {},
   "outputs": [
    {
     "name": "stderr",
     "output_type": "stream",
     "text": [
      "Matplotlib is building the font cache; this may take a moment.\n"
     ]
    }
   ],
   "source": [
    "import tensorflow as tf\n",
    "import numpy as np\n",
    "import matplotlib.pyplot as plt \n",
    "\n"
   ]
  },
  {
   "cell_type": "code",
   "execution_count": 9,
   "metadata": {},
   "outputs": [],
   "source": [
    "# Entrads en los patrones (dataset)\n",
    "X = np.array([  [0,1,1],\n",
    "                 [1,0,1],\n",
    "                 [0,0,1],\n",
    "                 [2,3,5],\n",
    "                 [5,1,0],\n",
    "                 [0,3,1] ])\n",
    "# salidas en los patrones (dataset)           \n",
    "y = np.array([[2,4,1,14,16,4]]).T\n",
    "\n",
    "# semilla para random\n",
    "np.random.seed(0)\n",
    "\n",
    "# Inicialización de Pesos sinapticos\n",
    "syn0 = np.array([[0.401],\n",
    "                 [0.302],\n",
    "                 [0.817] ])"
   ]
  },
  {
   "cell_type": "code",
   "execution_count": 10,
   "metadata": {},
   "outputs": [
    {
     "name": "stdout",
     "output_type": "stream",
     "text": [
      "\n",
      " Pesos Syn0 \n",
      " [[0.401]\n",
      " [0.302]\n",
      " [0.817]]\n"
     ]
    }
   ],
   "source": [
    "print ('\\n','Pesos Syn0','\\n',syn0)"
   ]
  },
  {
   "cell_type": "code",
   "execution_count": 11,
   "metadata": {},
   "outputs": [
    {
     "name": "stdout",
     "output_type": "stream",
     "text": [
      "La neta es:  \n",
      " [[1.119]\n",
      " [1.218]\n",
      " [0.817]\n",
      " [5.793]\n",
      " [2.307]\n",
      " [1.723]]\n",
      "La salida es:  \n",
      " [[0.75380318]\n",
      " [0.7717114 ]\n",
      " [0.69359915]\n",
      " [0.99696045]\n",
      " [0.90945512]\n",
      " [0.84851485]]\n",
      "El error es:  \n",
      " [[ 1.24619682]\n",
      " [ 3.2282886 ]\n",
      " [ 0.30640085]\n",
      " [13.00303955]\n",
      " [15.09054488]\n",
      " [ 3.15148515]]\n",
      "Los nuevos pesos son:  \n",
      " [[0.46960812]\n",
      " [0.33007389]\n",
      " [0.83167228]]\n"
     ]
    }
   ],
   "source": [
    "#Incrementar el numero de iteraciones, para entrenar ...352 iter\n",
    "\n",
    "for iter in range(1):\n",
    "\n",
    "        # forward propagation\n",
    "        l0 = X\n",
    "        neta=np.dot(l0,syn0)\n",
    "        print('La neta es: ','\\n',neta)\n",
    "\n",
    "        # Funcion Sigmodea: 1/(1+exp(-neta) // Derivada de la Sigmoidea(x)  = x(1-x)\n",
    "        \n",
    "        l1 = 1/(1+np.exp(-neta))\n",
    "        \n",
    "        print('La salida es: ','\\n',l1)\n",
    "\n",
    "        # Cálculo del error\n",
    "        l1_error = y - l1\n",
    "        print('El error es: ','\\n',l1_error)\n",
    "        \n",
    "        # Constante de aprendizaje eta  (entre 0 y 1) -- Que pasa si lo cambio?      \n",
    "        eta=0.01\n",
    "        \n",
    "\t\t# Cálculo del delta =(Error*eta*derivada de función)\n",
    "\t\t# Cálculo del delta  -  la Derivada, que para la función Sigmodea es x(1-x)\n",
    "\t\t\n",
    "        derivada = l1 * (1-l1)\n",
    "        l1_delta = l1_error * eta * derivada\n",
    "        \n",
    "        # Entrenamiento: Actualizacion de pesos\n",
    "        syn0 += np.dot(l0.T,l1_delta)\n",
    "        print('Los nuevos pesos son: ','\\n',syn0)"
   ]
  },
  {
   "cell_type": "code",
   "execution_count": 12,
   "metadata": {},
   "outputs": [
    {
     "name": "stdout",
     "output_type": "stream",
     "text": [
      "Salida despues del entrenamiento:\n",
      "Patrones Entrada \n",
      " [[0 1 0 2 5 0]\n",
      " [1 0 0 3 1 3]\n",
      " [1 1 1 5 0 1]] \n",
      " Patrones Salida \n",
      " [[ 2]\n",
      " [ 4]\n",
      " [ 1]\n",
      " [14]\n",
      " [16]\n",
      " [ 4]] \n",
      " Salida Red \n",
      " [[0.75380318]\n",
      " [0.7717114 ]\n",
      " [0.69359915]\n",
      " [0.99696045]\n",
      " [0.90945512]\n",
      " [0.84851485]] \n",
      " Error \n",
      " [[ 1.24619682]\n",
      " [ 3.2282886 ]\n",
      " [ 0.30640085]\n",
      " [13.00303955]\n",
      " [15.09054488]\n",
      " [ 3.15148515]]\n",
      "\n",
      " Pesos Syn0 \n",
      " [[0.46960812]\n",
      " [0.33007389]\n",
      " [0.83167228]]\n"
     ]
    }
   ],
   "source": [
    "print ('Salida despues del entrenamiento:')\n",
    "\n",
    "print ('Patrones Entrada','\\n', l0.T,'\\n','Patrones Salida','\\n',y,'\\n','Salida Red','\\n', l1,'\\n','Error','\\n',l1_error)\n",
    "print ('\\n','Pesos Syn0','\\n',syn0)"
   ]
  }
 ],
 "metadata": {
  "kernelspec": {
   "display_name": "Python 3",
   "language": "python",
   "name": "python3"
  },
  "language_info": {
   "codemirror_mode": {
    "name": "ipython",
    "version": 3
   },
   "file_extension": ".py",
   "mimetype": "text/x-python",
   "name": "python",
   "nbconvert_exporter": "python",
   "pygments_lexer": "ipython3",
   "version": "3.11.5"
  },
  "orig_nbformat": 4
 },
 "nbformat": 4,
 "nbformat_minor": 2
}
