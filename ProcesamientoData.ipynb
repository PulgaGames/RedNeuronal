{
 "cells": [
  {
   "cell_type": "code",
   "execution_count": 1,
   "metadata": {},
   "outputs": [],
   "source": [
    "import pandas as pd\n",
    "import itertools"
   ]
  },
  {
   "cell_type": "markdown",
   "metadata": {},
   "source": [
    "Primer Procesamiento de la informacion (Combinacion)"
   ]
  },
  {
   "cell_type": "code",
   "execution_count": 4,
   "metadata": {},
   "outputs": [],
   "source": [
    "# Leer el archivo Excel original\n",
    "df = pd.read_excel(\"DataPrimerProcesamiento.xlsx\")\n",
    "\n",
    "# Obtener todas las combinaciones posibles de las columnas \"Ruta\", \"Hora\", \"Dia\" y \"Cond_Ruta\"\n",
    "rutas = df[\"Ruta\"].tolist()\n",
    "horas = pd.date_range(start=\"5:00\", end=\"22:00\", freq=\"H\").strftime(\"%H:%M\").tolist()\n",
    "dias = df[\"Dia\"].dropna().unique().tolist()  # Filtrar valores nulos en la columna \"Dia\"\n",
    "condiciones = [\"optima\", \"poco optima\", \"no optima\"]\n",
    "\n",
    "combinaciones = list(itertools.product(rutas, horas, dias, condiciones))\n",
    "\n",
    "# Crear un DataFrame con las combinaciones\n",
    "df_combinaciones = pd.DataFrame(combinaciones, columns=[\"Ruta\", \"Hora\", \"Dia\", \"Cond_Ruta\"])\n",
    "\n",
    "# Guardar el DataFrame en un nuevo archivo Excel sin filas con valores nulos en la columna \"Dia\"\n",
    "df_combinaciones.dropna(subset=[\"Dia\"], inplace=True)\n",
    "df_combinaciones.to_excel(\"DataSegundoProcesamientoV2.xlsx\", index=False)\n"
   ]
  },
  {
   "cell_type": "markdown",
   "metadata": {},
   "source": [
    "Segundo Procesamiento (Asiganar el numero de vehiculos disponibles por ruta)"
   ]
  },
  {
   "cell_type": "code",
   "execution_count": 6,
   "metadata": {},
   "outputs": [],
   "source": [
    "# Leer el archivo Excel con las posibles combinaciones\n",
    "df = pd.read_excel(\"DataSegundoProcesamientoV2.xlsx\")\n",
    "\n",
    "# Función para asignar valores a la columna \"#Veh_Disp_x_rut\" según la ruta\n",
    "def asignar_valor_ruta(ruta):\n",
    "    if ruta in [1, 21, 2, 22, 17, 37, 18, 38]:\n",
    "        return 3\n",
    "    elif ruta in [6, 26, 10, 20, 13, 33, 19, 39]:\n",
    "        return 2\n",
    "    elif ruta in [3, 23, 4, 24, 5, 25, 7, 27, 8, 28, 9, 29, 11, 31, 12, 32, 14, 34, 15, 35, 16, 36, 30, 40]:\n",
    "        return 1\n",
    "    else:\n",
    "        return None\n",
    "\n",
    "# Aplicar la función a la columna \"Ruta\" para obtener los valores de \"#Veh_Disp_x_rut\"\n",
    "df[\"#Veh_Disp_x_rut\"] = df[\"Ruta\"].apply(asignar_valor_ruta)\n",
    "\n",
    "# Guardar el DataFrame en un nuevo archivo Excel\n",
    "df.to_excel(\"DataTercerProcesamiento.xlsx\", index=False)\n"
   ]
  },
  {
   "cell_type": "markdown",
   "metadata": {},
   "source": [
    "Tercer Procesamiento (Asiganar el numero de demanda por ruta)"
   ]
  },
  {
   "cell_type": "code",
   "execution_count": 16,
   "metadata": {},
   "outputs": [],
   "source": [
    "# Leer el archivo Excel con las combinaciones anteriores\n",
    "df = pd.read_excel(\"DataTercerProcesamiento.xlsx\")\n",
    "\n",
    "# Función para asignar valores a la columna \"demanda\" según la ruta\n",
    "def asignar_valor_demanda(ruta):\n",
    "    if ruta in [1, 21, 6, 26, 14, 34, 15, 35, 17, 37, 19, 39]:\n",
    "        return 3\n",
    "    elif ruta in [2, 22, 4, 24, 5, 25, 9, 29, 8, 28, 11, 31, 12, 32, 18, 38,16,36]:\n",
    "        return 2\n",
    "    elif ruta in [3, 23, 7, 27, 10, 30, 13, 33, 20, 40]:\n",
    "        return 1\n",
    "    else:\n",
    "        return None\n",
    "\n",
    "# Aplicar la función a la columna \"Ruta\" para obtener los valores de \"demanda\"\n",
    "df[\"demanda\"] = df[\"Ruta\"].apply(asignar_valor_demanda)\n",
    "\n",
    "# Guardar el DataFrame en un nuevo archivo Excel\n",
    "df.to_excel(\"DataCuartoProcesamiento.xlsx\", index=False)\n"
   ]
  },
  {
   "cell_type": "markdown",
   "metadata": {},
   "source": [
    "Cuarto Procesamiento (categorizacion)"
   ]
  },
  {
   "cell_type": "code",
   "execution_count": 17,
   "metadata": {},
   "outputs": [],
   "source": [
    "\n",
    "# Leer el archivo Excel con las combinaciones y la columna \"Dia\"\n",
    "df = pd.read_excel(\"DataCuartoProcesamiento.xlsx\")\n",
    "\n",
    "# Función para asignar valores numéricos a la columna \"Dia\"\n",
    "def asignar_valor_dia(dia):\n",
    "    if dia in [\"lunes\", \"martes\", \"miercoles\", \"jueves\", \"viernes\"]:\n",
    "        return 3\n",
    "    elif dia in [\"sabado\", \"domingo \"]:\n",
    "        return 1\n",
    "    else:\n",
    "        return None\n",
    "\n",
    "# Aplicar la función a la columna \"Dia\" para obtener los valores numéricos\n",
    "df[\"Dia\"] = df[\"Dia\"].apply(asignar_valor_dia)\n",
    "\n",
    "\n",
    "# Función para asignar valores numéricos a la columna \"Cond_Ruta\"\n",
    "def asignar_valor_condicion(condicion):\n",
    "    if condicion == \"no optima\":\n",
    "        return 3\n",
    "    elif condicion == \"poco optima\":\n",
    "        return 2\n",
    "    elif condicion == \"optima\":\n",
    "        return 1\n",
    "    else:\n",
    "        return None\n",
    "\n",
    "# Aplicar la función a la columna \"Cond_Ruta\" para obtener los valores numéricos\n",
    "df[\"Cond_Ruta\"] = df[\"Cond_Ruta\"].apply(asignar_valor_condicion)\n",
    "\n",
    "# Guardar el DataFrame modificado en un nuevo archivo Excel\n",
    "df.to_excel(\"DataQuintoProcesamiento.xlsx\", index=False)"
   ]
  },
  {
   "cell_type": "code",
   "execution_count": 19,
   "metadata": {},
   "outputs": [],
   "source": [
    "# Leer el archivo Excel con las combinaciones y la columna \"Hora\"\n",
    "df = pd.read_excel(\"DataQuintoProcesamiento.xlsx\")\n",
    "\n",
    "# Función para asignar valores numéricos a la columna \"Hora\"\n",
    "def asignar_valor_hora(hora):\n",
    "    if hora in [\"05:00\",\"06:00\", \"07:00\", \"08:00\",  \"18:00\", \"19:00\"]:\n",
    "        return 3\n",
    "    elif hora in [ \"09:00\",  \"14:00\", \"15:00\", \"16:00\", \"17:00\",  \"22:00\"]:\n",
    "        return 1\n",
    "    elif hora in [\"10:00\", \"11:00\", \"12:00\", \"13:00\", \"14:00\",  \"20:00\", \"21:00\"]:\n",
    "        return 2\n",
    "    else:\n",
    "        return None\n",
    "\n",
    "# Aplicar la función a la columna \"Hora\" para obtener los valores numéricos\n",
    "df[\"Hora\"] = df[\"Hora\"].apply(asignar_valor_hora)\n",
    "\n",
    "# Guardar el DataFrame modificado en un nuevo archivo Excel\n",
    "df.to_excel(\"DataSextoProcesamiento.xlsx\", index=False)\n"
   ]
  }
 ],
 "metadata": {
  "kernelspec": {
   "display_name": "Python 3",
   "language": "python",
   "name": "python3"
  },
  "language_info": {
   "codemirror_mode": {
    "name": "ipython",
    "version": 3
   },
   "file_extension": ".py",
   "mimetype": "text/x-python",
   "name": "python",
   "nbconvert_exporter": "python",
   "pygments_lexer": "ipython3",
   "version": "3.11.5"
  }
 },
 "nbformat": 4,
 "nbformat_minor": 2
}
