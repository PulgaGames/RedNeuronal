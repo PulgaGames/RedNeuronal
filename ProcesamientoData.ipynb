{
 "cells": [
  {
   "cell_type": "code",
   "execution_count": 29,
   "metadata": {},
   "outputs": [],
   "source": [
    "import pandas as pd\n",
    "import itertools\n",
    "import numpy as np"
   ]
  },
  {
   "cell_type": "markdown",
   "metadata": {},
   "source": [
    "Primer Procesamiento de la informacion (Combinacion)"
   ]
  },
  {
   "cell_type": "code",
   "execution_count": 30,
   "metadata": {},
   "outputs": [],
   "source": [
    "# Leer el archivo Excel original\n",
    "df = pd.read_excel(\"prueba1.xlsx\")\n",
    "\n",
    "# Obtener todas las combinaciones posibles de las columnas \"Ruta\", \"Hora\", \"Dia\" y \"Cond_Ruta\"\n",
    "rutas = df[\"Ruta\"].tolist()\n",
    "horas = pd.date_range(start=\"5:00\", end=\"22:00\", freq=\"H\").strftime(\"%H:%M\").tolist()\n",
    "dias = df[\"Dia\"].dropna().unique().tolist()  # Filtrar valores nulos en la columna \"Dia\"\n",
    "condiciones = [\"optima\", \"poco optima\", \"no optima\"]\n",
    "\n",
    "combinaciones = list(itertools.product(rutas, horas, dias, condiciones))\n",
    "\n",
    "# Crear un DataFrame con las combinaciones\n",
    "df_combinaciones = pd.DataFrame(combinaciones, columns=[\"Ruta\", \"Hora\", \"Dia\", \"Cond_Ruta\"])\n",
    "\n",
    "# Guardar el DataFrame en un nuevo archivo Excel sin filas con valores nulos en la columna \"Dia\"\n",
    "df_combinaciones.dropna(subset=[\"Dia\"], inplace=True)\n",
    "df_combinaciones.to_excel(\"DataSegundoProcesamientoV4.xlsx\", index=False)\n"
   ]
  },
  {
   "cell_type": "markdown",
   "metadata": {},
   "source": [
    "Segundo Procesamiento (Asiganar el numero de vehiculos disponibles por ruta)"
   ]
  },
  {
   "cell_type": "code",
   "execution_count": 31,
   "metadata": {},
   "outputs": [],
   "source": [
    "# Leer el archivo Excel con las posibles combinaciones\n",
    "df = pd.read_excel(\"DataSegundoProcesamientoV4.xlsx\")\n",
    "\n",
    "# Función para asignar valores a la columna \"#Veh_Disp_x_rut\" según la ruta\n",
    "def asignar_valor_ruta(ruta):\n",
    "    if ruta in [3,33,6,36,10,40,13,43,19,49,23,53,24,54,30,60]:\n",
    "        return 3\n",
    "    elif ruta in [4,34,5,35,8,38,9,39,7,37,11,41,12,42,14,44,15,45,16,46,20,50,21,51,22,52,25,55,27,57,28,58,29,59]:\n",
    "        return 2\n",
    "    elif ruta in [1,31,2,32,47,17,18,48,26,56]:\n",
    "        return 4\n",
    "    else:\n",
    "        return None\n",
    "\n",
    "# Aplicar la función a la columna \"Ruta\" para obtener los valores de \"#Veh_Disp_x_rut\"\n",
    "df[\"#Veh_Disp_x_rut\"] = df[\"Ruta\"].apply(asignar_valor_ruta)\n",
    "\n",
    "# Guardar el DataFrame en un nuevo archivo Excel\n",
    "df.to_excel(\"DataTercerProcesamientoV4.xlsx\", index=False)\n"
   ]
  },
  {
   "cell_type": "markdown",
   "metadata": {},
   "source": [
    "Tercer Procesamiento (Asiganar el numero de demanda por ruta)"
   ]
  },
  {
   "cell_type": "code",
   "execution_count": 32,
   "metadata": {},
   "outputs": [],
   "source": [
    "# Leer el archivo Excel con las combinaciones anteriores\n",
    "df = pd.read_excel(\"DataTercerProcesamientoV4.xlsx\")\n",
    "\n",
    "# Función para asignar valores a la columna \"demanda\" según la ruta\n",
    "def asignar_valor_demanda(ruta):\n",
    "    if ruta in [1,31,6,36,14,44,15,45,17,47,19,49,26,56]:\n",
    "        return 3\n",
    "    elif ruta in [2,32,3,33,4,34,5,35,8,38,9,39,11,41,12,42,16,46,18,48,23,53,24,54,25,55,30,60]:\n",
    "        return 2\n",
    "    elif ruta in [7,37,10,40,13,43,20,50,21,51,22,52,27,57,28,58,29,59]:\n",
    "        return 1\n",
    "    else:\n",
    "        return None\n",
    "\n",
    "# Aplicar la función a la columna \"Ruta\" para obtener los valores de \"demanda\"\n",
    "df[\"demanda\"] = df[\"Ruta\"].apply(asignar_valor_demanda)\n",
    "\n",
    "# Guardar el DataFrame en un nuevo archivo Excel\n",
    "df.to_excel(\"DataCuartoProcesamientoV4.xlsx\", index=False)\n"
   ]
  },
  {
   "cell_type": "markdown",
   "metadata": {},
   "source": [
    "Cuarto Procesamiento (categorizacion)"
   ]
  },
  {
   "cell_type": "code",
   "execution_count": 33,
   "metadata": {},
   "outputs": [],
   "source": [
    "\n",
    "# Leer el archivo Excel con las combinaciones y la columna \"Dia\"\n",
    "df = pd.read_excel(\"DataCuartoProcesamientoV4.xlsx\")\n",
    "\n",
    "# Función para asignar valores numéricos a la columna \"Dia\"\n",
    "def asignar_valor_dia(dia):\n",
    "    if dia in [\"lunes\", \"martes\", \"miercoles\", \"jueves\", \"viernes\"]:\n",
    "        return 3\n",
    "    elif dia in [\"sabado\", \"domingo \"]:\n",
    "        return 1\n",
    "    else:\n",
    "        return None\n",
    "\n",
    "# Aplicar la función a la columna \"Dia\" para obtener los valores numéricos\n",
    "df[\"Dia\"] = df[\"Dia\"].apply(asignar_valor_dia)\n",
    "\n",
    "\n",
    "# Función para asignar valores numéricos a la columna \"Cond_Ruta\"\n",
    "def asignar_valor_condicion(condicion):\n",
    "    if condicion == \"no optima\":\n",
    "        return 3\n",
    "    elif condicion == \"poco optima\":\n",
    "        return 2\n",
    "    elif condicion == \"optima\":\n",
    "        return 1\n",
    "    else:\n",
    "        return None\n",
    "\n",
    "# Aplicar la función a la columna \"Cond_Ruta\" para obtener los valores numéricos\n",
    "df[\"Cond_Ruta\"] = df[\"Cond_Ruta\"].apply(asignar_valor_condicion)\n",
    "\n",
    "# Guardar el DataFrame modificado en un nuevo archivo Excel\n",
    "df.to_excel(\"DataQuintoProcesamientoV4.xlsx\", index=False)"
   ]
  },
  {
   "cell_type": "code",
   "execution_count": 34,
   "metadata": {},
   "outputs": [],
   "source": [
    "# Leer el archivo Excel con las combinaciones y la columna \"Hora\"\n",
    "df = pd.read_excel(\"DataQuintoProcesamientoV4.xlsx\")\n",
    "\n",
    "# Función para asignar valores numéricos a la columna \"Hora\"\n",
    "def asignar_valor_hora(hora):\n",
    "    if hora in [\"05:00\",\"06:00\", \"07:00\", \"08:00\",  \"18:00\", \"19:00\"]:\n",
    "        return 3\n",
    "    elif hora in [ \"09:00\",  \"14:00\", \"15:00\", \"16:00\", \"17:00\",  \"22:00\"]:\n",
    "        return 1\n",
    "    elif hora in [\"10:00\", \"11:00\", \"12:00\", \"13:00\", \"14:00\",  \"20:00\", \"21:00\"]:\n",
    "        return 2\n",
    "    else:\n",
    "        return None\n",
    "\n",
    "# Aplicar la función a la columna \"Hora\" para obtener los valores numéricos\n",
    "df[\"Hora\"] = df[\"Hora\"].apply(asignar_valor_hora)\n",
    "\n",
    "# Guardar el DataFrame modificado en un nuevo archivo Excel\n",
    "df.to_excel(\"DataSextoProcesamientoV4.xlsx\", index=False)\n"
   ]
  },
  {
   "cell_type": "code",
   "execution_count": 35,
   "metadata": {},
   "outputs": [],
   "source": [
    "import pandas as pd\n",
    "\n",
    "# Cargar el DataFrame desde el archivo Excel\n",
    "df = pd.read_excel(\"DataSextoProcesamientoV4.xlsx\")\n",
    "\n",
    "# Diccionario de mapeo para la nueva columna \"DistRut_Km\"\n",
    "distancia_ruta = {\n",
    "    1: \"19,26\", 2: \"22,6\" , 3: \"7,4\", 4: \"12,19\", 5: \"12,2\", 6: \"17,78\", 7: \"9,37\", 8: \"14,71\", 9: \"11\", 10: \"18,85\", 11: \"17,35\", 12: \"11,25\", 13: \"10\", 14: \"7\", 15: \"13,15\", 16: \"17,14\", 17: \"11,4\", 18: \"16,5\", 19: \"11,6\", 20: \"13,61\", 21: \"10,08\", 22: \"8,3\", 23: \"11\", 24: \"12,3\", 25: \"12,4\", 26: \"11,6\", 27: \"10,7\", 28: \"12,6\", 29: \"1,8\", 30: \"8,3\",  31: \"19,26\", 32: \"22,6\", 33: \"7,4\", 34: \"12,19\", 35: \"12,2\", 36: \"17,78\", 37: \"9,37\", 38: \"14,71\", 39: \"11\", 40: \"18,85\", 41: \"17,35\", 42: \"11,25\", 43: \"10\", 44: \"7\", 45: \"13,15\", 46: \"17,14\", 47: \"11,4\", 48: \"16,5\", 49: \"11,6\", 50: \"13,61\", 51: \"10,08\", 52: \"8,3\", 53: \"11\", 54: \"12,3\", 55: \"12,4\", 56: \"11,6\", 57: \"10,7\", 58: \"12,6\", 59: \"1,8\", 60: \"8,3\"  # Continúa para los demás valores...\n",
    "    # Asegúrate de añadir todas las correspondencias aquí\n",
    "}\n",
    "\n",
    "# Función para asignar el valor basado en la columna 'Ruta'\n",
    "def asignar_distancia(valor_ruta):\n",
    "    # Si el valor está en el diccionario, devuelve la distancia correspondiente\n",
    "    return distancia_ruta.get(valor_ruta, \"\")\n",
    "\n",
    "# Aplica la función para crear la nueva columna 'DistRut_Km'\n",
    "df['DistRut_Km'] = df['Ruta'].apply(asignar_distancia)\n",
    "\n",
    "# Guardar el DataFrame modificado en un nuevo archivo Excel\n",
    "df.to_excel(\"DataSeptimoProcesamientoV4.xlsx\", index=False)"
   ]
  },
  {
   "cell_type": "code",
   "execution_count": 36,
   "metadata": {},
   "outputs": [],
   "source": [
    "import pandas as pd\n",
    "\n",
    "# Cargar el DataFrame desde el archivo Excel\n",
    "df = pd.read_excel(\"DataSeptimoProcesamientoV4.xlsx\")\n",
    "\n",
    "# Diccionario de mapeo para la nueva columna \"DistRut_Km\"\n",
    "distancia_ruta = {\n",
    "    1: \"40\", 2: \"45\" , 3: \"22\", 4: \"45\", 5: \"42\", 6: \"50\", 7: \"42\", 8: \"47\", 9: \"37\", 10: \"52\", 11: \"38\", 12: \"42\", 13: \"26\", 14: \"35\", 15: \"45\", 16: \"50\", 17: \"28\", 18: \"50\", 19: \"41\", 20: \"28\", 21: \"40\", 22: \"28\", 23: \"35\", 24: \"35\", 25: \"50\", 26: \"43\", 27: \"45\", 28: \"55\", 29: \"11\", 30: \"32\",  31: \"40\", 32: \"45\" , 33: \"22\", 34: \"45\", 35: \"42\", 36: \"50\", 37: \"42\", 38: \"47\", 39: \"37\", 40: \"52\", 41: \"38\", 42: \"42\", 43: \"26\", 44: \"35\", 45: \"45\", 46: \"50\", 47: \"28\", 48: \"50\", 49: \"41\", 50: \"28\", 51: \"40\", 52: \"28\", 53: \"35\", 54: \"35\", 55: \"50\", 56: \"43\", 57: \"45\", 58: \"55\", 59: \"11\", 60: \"32\"\n",
    "    # Asegúrate de añadir todas las correspondencias aquí\n",
    "}\n",
    "\n",
    "# Función para asignar el valor basado en la columna 'Ruta'\n",
    "def asignar_distancia(valor_ruta):\n",
    "    # Si el valor está en el diccionario, devuelve la distancia correspondiente\n",
    "    return distancia_ruta.get(valor_ruta, \"\")\n",
    "\n",
    "# Aplica la función para crear la nueva columna 'DistRut_Km'\n",
    "df['TimeRuta'] = df['Ruta'].apply(asignar_distancia)\n",
    "\n",
    "# Guardar el DataFrame modificado en un nuevo archivo Excel\n",
    "df.to_excel(\"DataOctavoProcesamientoV4.xlsx\", index=False)"
   ]
  },
  {
   "cell_type": "code",
   "execution_count": 38,
   "metadata": {},
   "outputs": [],
   "source": [
    "\n",
    "import pandas as pd\n",
    "\n",
    "# Cargar el DataFrame desde el archivo Excel\n",
    "df = pd.read_excel(\"DataOctavoProcesamientoV4.xlsx\")\n",
    "\n",
    "# Diccionario de mapeo para la nueva columna \"DistRut_Km\"\n",
    "distancia_ruta = {\n",
    "    3: \"230\", 33: \"230\" , 21: \"160\", 51: \"160\", 22: \"170\", 52: \"170\", 53: \"210\", 23: \"210\", 54: \"240\", 24: \"240\", 56: \"320\", 26: \"320\", 27: \"280\", 57: \"280\", 29: \"150\", 59: \"150\", 30: \"250\", 60: \"250\"\n",
    "    # Asegúrate de añadir todas las correspondencias aquí\n",
    "}\n",
    "\n",
    "# Función para asignar el valor basado en la columna 'Ruta'\n",
    "def asignar_distancia(valor_ruta):\n",
    "    # Si el valor está en el diccionario, devuelve la distancia correspondiente\n",
    "    return distancia_ruta.get(valor_ruta, \"\")\n",
    "\n",
    "# Aplica la función para crear la nueva columna 'DistRut_Km'\n",
    "df['PromPasDia'] = df['Ruta'].apply(asignar_distancia)\n",
    "\n",
    "# Guardar el DataFrame modificado en un nuevo archivo Excel\n",
    "df.to_excel(\"DataNovenoProcesamientoV4.xlsx\", index=False)  \n",
    "\n",
    "\n",
    "\n"
   ]
  }
 ],
 "metadata": {
  "kernelspec": {
   "display_name": "Python 3",
   "language": "python",
   "name": "python3"
  },
  "language_info": {
   "codemirror_mode": {
    "name": "ipython",
    "version": 3
   },
   "file_extension": ".py",
   "mimetype": "text/x-python",
   "name": "python",
   "nbconvert_exporter": "python",
   "pygments_lexer": "ipython3",
   "version": "3.11.5"
  }
 },
 "nbformat": 4,
 "nbformat_minor": 2
}
