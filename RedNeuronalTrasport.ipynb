{
 "cells": [
  {
   "cell_type": "code",
   "execution_count": 5,
   "metadata": {},
   "outputs": [],
   "source": [
    "import pandas as pd\n",
    "import numpy as np"
   ]
  },
  {
   "cell_type": "code",
   "execution_count": 6,
   "metadata": {},
   "outputs": [],
   "source": [
    "data = pd.read_excel('DataSextoProcesamiento.xlsx')"
   ]
  },
  {
   "cell_type": "markdown",
   "metadata": {},
   "source": [
    "Obtener las características y la salida del dataset"
   ]
  },
  {
   "cell_type": "code",
   "execution_count": 4,
   "metadata": {},
   "outputs": [],
   "source": [
    "X = data[['Ruta', 'Hora', 'Dia', 'Cond_Ruta', '#Veh_Disp_x_rut']].values\n",
    "y = data['demanda'].values"
   ]
  },
  {
   "cell_type": "code",
   "execution_count": 7,
   "metadata": {},
   "outputs": [],
   "source": [
    "# Normalizar las características \n",
    "X = X / X.max(axis=0)"
   ]
  },
  {
   "cell_type": "code",
   "execution_count": 8,
   "metadata": {},
   "outputs": [],
   "source": [
    "# Función de activación sigmoidal\n",
    "def sigmoid(x):\n",
    "    return 1 / (1 + np.exp(-x))"
   ]
  },
  {
   "cell_type": "code",
   "execution_count": 9,
   "metadata": {},
   "outputs": [],
   "source": [
    "# Derivada de la función sigmoidal\n",
    "def sigmoid_derivative(x):\n",
    "    return x * (1 - x)"
   ]
  },
  {
   "cell_type": "code",
   "execution_count": 10,
   "metadata": {},
   "outputs": [],
   "source": [
    "# Inicializar los pesos de forma aleatoria con media 0\n",
    "np.random.seed(1)\n",
    "input_neurons = X.shape[1]\n",
    "capaOculta1 = 10\n",
    "capaOculta2 = 10\n",
    "output_neurons = 1\n",
    "ETA = 0.1\n",
    "iter = 10000"
   ]
  },
  {
   "cell_type": "code",
   "execution_count": 11,
   "metadata": {},
   "outputs": [],
   "source": [
    "# Pesos entre la capa de entrada y la primera capa oculta\n",
    "weights_input_hidden = 2 * np.random.random((input_neurons, capaOculta1)) - 1\n",
    "\n",
    "# Pesos entre la primera capa oculta y la segunda capa oculta\n",
    "weights_hidden_output = 2 * np.random.random((capaOculta2, output_neurons)) - 1\n"
   ]
  },
  {
   "cell_type": "code",
   "execution_count": 12,
   "metadata": {},
   "outputs": [],
   "source": [
    "# Entrenamiento de la red neuronal\n",
    "for epoch in range(iter):\n",
    "    # Capa de entrada\n",
    "    input_layer = X\n",
    "    \n",
    "    # Capa oculta 1\n",
    "    hidden_layer1_input = np.dot(input_layer, weights_input_hidden)\n",
    "    hidden_layer1_output = sigmoid(hidden_layer1_input)\n",
    "    \n",
    "    # Capa oculta 2\n",
    "    hidden_layer2_input = np.dot(hidden_layer1_output, weights_hidden_output)\n",
    "    hidden_layer2_output = sigmoid(hidden_layer2_input)\n",
    "    \n",
    "    # Calcular el error\n",
    "    error = y.reshape(-1, 1) - hidden_layer2_output\n",
    "    \n",
    "    # Backpropagation y ajuste de pesos\n",
    "    delta = error * sigmoid_derivative(hidden_layer2_output)\n",
    "    hidden_layer1_error = delta.dot(weights_hidden_output.T)\n",
    "    delta_hidden_layer1 = hidden_layer1_error * sigmoid_derivative(hidden_layer1_output)\n",
    "    \n",
    "    weights_hidden_output += hidden_layer1_output.T.dot(delta) * ETA\n",
    "    weights_input_hidden += input_layer.T.dot(delta_hidden_layer1) * ETA"
   ]
  },
  {
   "cell_type": "code",
   "execution_count": 13,
   "metadata": {},
   "outputs": [
    {
     "name": "stdout",
     "output_type": "stream",
     "text": [
      "Predicciones:\n",
      "[[1.]\n",
      " [1.]\n",
      " [1.]\n",
      " ...\n",
      " [1.]\n",
      " [1.]\n",
      " [1.]]\n"
     ]
    }
   ],
   "source": [
    "# Predicciones\n",
    "input_layer = X\n",
    "hidden_layer1 = sigmoid(np.dot(input_layer, weights_input_hidden))\n",
    "hidden_layer2 = sigmoid(np.dot(hidden_layer1, weights_hidden_output))\n",
    "\n",
    "# Redondear las predicciones a los valores de demanda (1, 2, 3)\n",
    "predictions = np.round(hidden_layer2)\n",
    "\n",
    "# Imprimir las predicciones\n",
    "print(\"Predicciones:\")\n",
    "print(predictions)"
   ]
  }
 ],
 "metadata": {
  "kernelspec": {
   "display_name": "Python 3",
   "language": "python",
   "name": "python3"
  },
  "language_info": {
   "codemirror_mode": {
    "name": "ipython",
    "version": 3
   },
   "file_extension": ".py",
   "mimetype": "text/x-python",
   "name": "python",
   "nbconvert_exporter": "python",
   "pygments_lexer": "ipython3",
   "version": "3.11.5"
  }
 },
 "nbformat": 4,
 "nbformat_minor": 2
}
